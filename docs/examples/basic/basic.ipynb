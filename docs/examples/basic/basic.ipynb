{
 "cells": [
  {
   "cell_type": "markdown",
   "id": "a7211643",
   "metadata": {},
   "source": [
    " <a href=\"https://colab.research.google.com/github/fralfaro/Streamlit-Examples/blob/main/docs/examples/basic.ipynb\" target=\"_parent\"><img src=\"https://colab.research.google.com/assets/colab-badge.svg\" alt=\"Open In Colab\"/></a> \n",
    "\n",
    "# Basic"
   ]
  },
  {
   "cell_type": "code",
   "execution_count": 1,
   "id": "163d1af8",
   "metadata": {},
   "outputs": [],
   "source": [
    "#!pip install streamlit"
   ]
  },
  {
   "cell_type": "code",
   "execution_count": 5,
   "id": "cfb5bfb1",
   "metadata": {},
   "outputs": [
    {
     "name": "stdout",
     "output_type": "stream",
     "text": [
      "Overwriting app.py\n"
     ]
    }
   ],
   "source": [
    "%%writefile app.py\n",
    "import streamlit as st\n",
    "import pandas as pd\n",
    "import numpy as np\n",
    "import matplotlib.pyplot as plt\n",
    "\n",
    "# Título de la aplicación\n",
    "st.title('Análisis de Datos con Streamlit')\n",
    "\n",
    "# Cargar los datos (por ejemplo, un conjunto de datos sobre ventas)\n",
    "data = pd.read_csv('docs/examples/basic/data.csv')\n",
    "\n",
    "# Sidebar para opciones de filtrado\n",
    "st.sidebar.header('Opciones de Filtrado')\n",
    "selected_category = st.sidebar.selectbox('Seleccionar Categoría', data['category'].unique())\n",
    "\n",
    "# Filtrar datos por categoría seleccionada\n",
    "filtered_data = data[data['category'] == selected_category]\n",
    "\n",
    "# Mostrar los datos filtrados en una tabla\n",
    "st.subheader('Datos Filtrados')\n",
    "st.write(filtered_data)\n",
    "\n",
    "# Mostrar histograma de precios\n",
    "st.subheader('Histograma de Precios')\n",
    "fig, ax = plt.subplots()\n",
    "hist_values, hist_bins = np.histogram(filtered_data['price'], bins=20)\n",
    "plt.bar(hist_bins[:-1], hist_values, width=hist_bins[1] - hist_bins[0], color='blue', alpha=0.7)\n",
    "plt.xlabel('Precio')\n",
    "plt.ylabel('Frecuencia')\n",
    "st.pyplot(fig)\n",
    "\n",
    "# Mostrar gráfico de dispersión entre precio y cantidad\n",
    "st.subheader('Gráfico de Dispersión')\n",
    "fig, ax = plt.subplots()\n",
    "plt.scatter(filtered_data['price'], filtered_data['quantity'], alpha=0.5, color='green')\n",
    "plt.xlabel('Precio')\n",
    "plt.ylabel('Cantidad')\n",
    "st.pyplot(fig)\n",
    "\n",
    "# Mostrar resumen estadístico\n",
    "st.subheader('Resumen Estadístico')\n",
    "st.write(filtered_data.describe())\n",
    "\n",
    "# Agregar una nota final\n",
    "st.markdown('¡Explora y analiza los datos utilizando las opciones y gráficos anteriores!')"
   ]
  },
  {
   "cell_type": "code",
   "execution_count": null,
   "id": "195b37bf",
   "metadata": {},
   "outputs": [],
   "source": [
    "!streamlit run app.py & npx localtunnel --port 8501"
   ]
  },
  {
   "cell_type": "code",
   "execution_count": null,
   "id": "176bf40b",
   "metadata": {},
   "outputs": [],
   "source": []
  }
 ],
 "metadata": {
  "kernelspec": {
   "display_name": "Python 3 (ipykernel)",
   "language": "python",
   "name": "python3"
  },
  "language_info": {
   "codemirror_mode": {
    "name": "ipython",
    "version": 3
   },
   "file_extension": ".py",
   "mimetype": "text/x-python",
   "name": "python",
   "nbconvert_exporter": "python",
   "pygments_lexer": "ipython3",
   "version": "3.8.10"
  }
 },
 "nbformat": 4,
 "nbformat_minor": 5
}
